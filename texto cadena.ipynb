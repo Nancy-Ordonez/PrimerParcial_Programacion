{
 "cells": [
  {
   "cell_type": "code",
   "execution_count": 3,
   "id": "517661cd-b90f-4416-ad62-52e0f7b3f915",
   "metadata": {},
   "outputs": [
    {
     "data": {
      "text/plain": [
       "'Hola Mundo'"
      ]
     },
     "execution_count": 3,
     "metadata": {},
     "output_type": "execute_result"
    }
   ],
   "source": [
    "'Hola Mundo'"
   ]
  },
  {
   "cell_type": "code",
   "execution_count": 4,
   "id": "80658035-eadf-4194-9d28-0a7192839a21",
   "metadata": {},
   "outputs": [
    {
     "data": {
      "text/plain": [
       "'Hola Mundo'"
      ]
     },
     "execution_count": 4,
     "metadata": {},
     "output_type": "execute_result"
    }
   ],
   "source": [
    " \"Hola Mundo\""
   ]
  },
  {
   "cell_type": "code",
   "execution_count": 9,
   "id": "a890a86d-e43b-4f60-a670-ade290f531f1",
   "metadata": {},
   "outputs": [
    {
     "data": {
      "text/plain": [
       "'Este texto incluye unas'"
      ]
     },
     "execution_count": 9,
     "metadata": {},
     "output_type": "execute_result"
    }
   ],
   "source": [
    " 'Este texto incluye unas'"
   ]
  },
  {
   "cell_type": "code",
   "execution_count": 6,
   "id": "18c8e256-045f-485e-83c0-0fa19d24eabc",
   "metadata": {},
   "outputs": [
    {
     "data": {
      "text/plain": [
       "\"Esta 'palabra' se encuentra escrita entre comillas simples\""
      ]
     },
     "execution_count": 6,
     "metadata": {},
     "output_type": "execute_result"
    }
   ],
   "source": [
    "\"Esta 'palabra' se encuentra escrita entre comillas simples\""
   ]
  },
  {
   "cell_type": "code",
   "execution_count": 7,
   "id": "f51e9c83-8b49-4a2e-852a-42dbf490a296",
   "metadata": {},
   "outputs": [
    {
     "data": {
      "text/plain": [
       "'Esta \"palabra\" se encuentra escr/ta entre comillas dobles'"
      ]
     },
     "execution_count": 7,
     "metadata": {},
     "output_type": "execute_result"
    }
   ],
   "source": [
    "\"Esta \\\"palabra\\\" se encuentra escr/ta entre comillas dobles\""
   ]
  },
  {
   "cell_type": "code",
   "execution_count": 8,
   "id": "6ff2a2d2-a08e-4aec-99a4-6a7539547c0d",
   "metadata": {},
   "outputs": [
    {
     "data": {
      "text/plain": [
       "\"Esta 'palabra' se encuentra escrita entre comillas dobles\""
      ]
     },
     "execution_count": 8,
     "metadata": {},
     "output_type": "execute_result"
    }
   ],
   "source": [
    " 'Esta \\'palabra\\' se encuentra escrita entre comillas dobles' "
   ]
  },
  {
   "cell_type": "code",
   "execution_count": null,
   "id": "220d8c9a-7926-44cb-9331-672d901d8c8d",
   "metadata": {},
   "outputs": [],
   "source": [
    "La función print()\n",
    "Es una instrucción que nos permite mostrar correctamente el valor de una cadena (u otros valores/variables) por pantalla."
   ]
  },
  {
   "cell_type": "code",
   "execution_count": 10,
   "id": "8d7fdaad-df40-42f2-be3a-572daf7e24b8",
   "metadata": {},
   "outputs": [
    {
     "data": {
      "text/plain": [
       "'otra cadena más'"
      ]
     },
     "execution_count": 10,
     "metadata": {},
     "output_type": "execute_result"
    }
   ],
   "source": [
    "\"Una cadena\"\n",
    "'otra cadena'\n",
    "'otra cadena más'"
   ]
  },
  {
   "cell_type": "code",
   "execution_count": 13,
   "id": "ceb47c4b-0641-4187-ad39-72dbd95d9558",
   "metadata": {},
   "outputs": [
    {
     "name": "stdout",
     "output_type": "stream",
     "text": [
      "Una cadena\n",
      "otra cadena\n",
      "otra cadena más\n"
     ]
    }
   ],
   "source": [
    "print(\"Una cadena\")\n",
    "print('otra cadena') \n",
    "print('otra cadena más')"
   ]
  },
  {
   "cell_type": "code",
   "execution_count": null,
   "id": "c65371a6-1927-4da7-aa76-b0c839910cca",
   "metadata": {},
   "outputs": [],
   "source": [
    "Acepta carácteres especiales como las tabulaciones /t o los saltos de línea /n"
   ]
  },
  {
   "cell_type": "code",
   "execution_count": 14,
   "id": "29f40f9c-e450-4325-b251-16126d557ef2",
   "metadata": {},
   "outputs": [
    {
     "name": "stdout",
     "output_type": "stream",
     "text": [
      "Un texto\tuna tabulación\n"
     ]
    }
   ],
   "source": [
    "print(\"Un texto\\tuna tabulación\")"
   ]
  },
  {
   "cell_type": "code",
   "execution_count": 16,
   "id": "0e684a5c-296d-41e0-b7d7-90393428433b",
   "metadata": {},
   "outputs": [
    {
     "name": "stdout",
     "output_type": "stream",
     "text": [
      "Un texto\n",
      "una nueva línea\n"
     ]
    }
   ],
   "source": [
    "print(\"Un texto\\nuna nueva línea\")"
   ]
  },
  {
   "cell_type": "code",
   "execution_count": null,
   "id": "d7e62e67-c3f3-43db-8ca5-e0d2fd6c0c34",
   "metadata": {},
   "outputs": [],
   "source": [
    "Para evitar los carácteres especiales, debemos indicar que una cadena es cruda (raw)"
   ]
  },
  {
   "cell_type": "code",
   "execution_count": 17,
   "id": "fac806b0-5bb6-4a48-97d5-b1b90a891bb4",
   "metadata": {},
   "outputs": [
    {
     "name": "stdout",
     "output_type": "stream",
     "text": [
      "C: \n",
      "ombre\\directorio\n"
     ]
    },
    {
     "name": "stderr",
     "output_type": "stream",
     "text": [
      "<>:1: SyntaxWarning: invalid escape sequence '\\d'\n",
      "<>:1: SyntaxWarning: invalid escape sequence '\\d'\n",
      "C:\\Users\\USUARIO\\AppData\\Local\\Temp\\ipykernel_14264\\3267307527.py:1: SyntaxWarning: invalid escape sequence '\\d'\n",
      "  print(\"C: \\nombre\\directorio\")\n"
     ]
    }
   ],
   "source": [
    " print(\"C: \\nombre\\directorio\")"
   ]
  },
  {
   "cell_type": "code",
   "execution_count": 18,
   "id": "1a5db820-ada0-4fbf-8ddb-855dc8a9efdf",
   "metadata": {},
   "outputs": [
    {
     "name": "stdout",
     "output_type": "stream",
     "text": [
      "C: \\nombre\\directorio\n"
     ]
    }
   ],
   "source": [
    " print(r\"C: \\nombre\\directorio\") # r => raw (cruda)"
   ]
  },
  {
   "cell_type": "code",
   "execution_count": null,
   "id": "3c86ddc5-715c-4811-aea4-4842fd220ce8",
   "metadata": {},
   "outputs": [],
   "source": [
    "Podemos utilizar \"\"\" (triple comillas) para cadenas multilinea"
   ]
  },
  {
   "cell_type": "code",
   "execution_count": 19,
   "id": "6a1ca0b0-4b83-419f-8fb6-5b4cf13cae05",
   "metadata": {},
   "outputs": [
    {
     "name": "stdout",
     "output_type": "stream",
     "text": [
      "Una línea\n",
      "otra línea\n",
      "otra línea\tuna tabulación\n"
     ]
    }
   ],
   "source": [
    " print(\"\"\"Una línea\n",
    "otra línea\n",
    "otra línea\\tuna tabulación\"\"\")"
   ]
  },
  {
   "cell_type": "code",
   "execution_count": null,
   "id": "3e73611d-e3f1-4e9b-85a9-be9aaeda8b02",
   "metadata": {},
   "outputs": [],
   "source": [
    "También es posible asignar cadenas a variables\n",
    "La forma correcta de mostrarlas es con la instrucción print()."
   ]
  },
  {
   "cell_type": "code",
   "execution_count": 22,
   "id": "50019e44-e08d-49ae-b165-33a5637ac43c",
   "metadata": {},
   "outputs": [],
   "source": [
    " c = \"Esto es una cadena\\ncon dos líneas\""
   ]
  },
  {
   "cell_type": "code",
   "execution_count": 23,
   "id": "b14b36a1-52ec-4b53-9a4f-d042839c6403",
   "metadata": {},
   "outputs": [
    {
     "data": {
      "text/plain": [
       "'Esto es una cadena\\ncon dos líneas'"
      ]
     },
     "execution_count": 23,
     "metadata": {},
     "output_type": "execute_result"
    }
   ],
   "source": [
    "c"
   ]
  },
  {
   "cell_type": "code",
   "execution_count": 24,
   "id": "04b93573-9ee1-4221-88bc-1f3dad9580e0",
   "metadata": {},
   "outputs": [
    {
     "name": "stdout",
     "output_type": "stream",
     "text": [
      "Esto es una cadena\n",
      "con dos líneas\n"
     ]
    }
   ],
   "source": [
    " print(c)"
   ]
  },
  {
   "cell_type": "code",
   "execution_count": null,
   "id": "fe0775bb-a432-4d6f-b919-ec3a2a1aad54",
   "metadata": {},
   "outputs": [],
   "source": [
    "Operaciones\n",
    "Una de las operaciones de las cadenas es la concatenación (o suma de cadenas)"
   ]
  },
  {
   "cell_type": "code",
   "execution_count": 26,
   "id": "05382977-f7e3-4c67-beb5-2a0f79c71fe6",
   "metadata": {},
   "outputs": [
    {
     "data": {
      "text/plain": [
       "'Esto es una cadena\\ncon dos líneasEsto es una cadena\\ncon dos líneas'"
      ]
     },
     "execution_count": 26,
     "metadata": {},
     "output_type": "execute_result"
    }
   ],
   "source": [
    "c + c"
   ]
  },
  {
   "cell_type": "code",
   "execution_count": 27,
   "id": "bbc09a88-5e7b-4e5f-89ea-41fe2b3128a3",
   "metadata": {},
   "outputs": [
    {
     "name": "stdout",
     "output_type": "stream",
     "text": [
      "Esto es una cadena\n",
      "con dos líneasEsto es una cadena\n",
      "con dos líneas\n"
     ]
    }
   ],
   "source": [
    "print(c+c)"
   ]
  },
  {
   "cell_type": "code",
   "execution_count": 29,
   "id": "4d299dc7-aeb8-473e-a99d-3ba1755254cf",
   "metadata": {},
   "outputs": [
    {
     "name": "stdout",
     "output_type": "stream",
     "text": [
      "Una cadena compuesta de dos cadenas\n"
     ]
    }
   ],
   "source": [
    "s = \"Una cadena\" \" compuesta de dos cadenas\" \n",
    "print(s)"
   ]
  },
  {
   "cell_type": "code",
   "execution_count": 30,
   "id": "538156e1-1dae-40dc-a257-b5acedf31bb8",
   "metadata": {},
   "outputs": [
    {
     "name": "stdout",
     "output_type": "stream",
     "text": [
      "Una cadena otra cadena\n"
     ]
    }
   ],
   "source": [
    "\"Una cadena\"\n",
    "c2 = \"otra cadena\"\n",
    "print(\"Una cadena \" + c2)"
   ]
  },
  {
   "cell_type": "code",
   "execution_count": null,
   "id": "c4f0d096-b593-41fa-a21d-a18c12c2653c",
   "metadata": {},
   "outputs": [],
   "source": [
    "También es posible utilizar la multiplicación de cadenas"
   ]
  },
  {
   "cell_type": "code",
   "execution_count": 32,
   "id": "8c4ab50c-4777-4a38-bbd2-d1e709426af2",
   "metadata": {},
   "outputs": [
    {
     "name": "stdout",
     "output_type": "stream",
     "text": [
      "          un texto a diez espacios\n"
     ]
    }
   ],
   "source": [
    " diez_espacios = \" \"* 10\n",
    "print (diez_espacios + \"un texto a diez espacios\")"
   ]
  },
  {
   "cell_type": "code",
   "execution_count": null,
   "id": "00d3913e-983f-4948-90ae-66d6065bd13e",
   "metadata": {},
   "outputs": [],
   "source": [
    "Índices en las cadenas\n",
    "Los índices nos permiten posicionarnos en un carácter específico de una cadena.\n",
    "Representan un número [índice], que empezando por el 0 indica el carácter de la primera posición, y así sucesivamente."
   ]
  },
  {
   "cell_type": "code",
   "execution_count": 34,
   "id": "35ca16b1-3fa4-4ae2-b97c-2e1781ae96fb",
   "metadata": {},
   "outputs": [],
   "source": [
    "palabra = \"Python\""
   ]
  },
  {
   "cell_type": "code",
   "execution_count": 35,
   "id": "7372a98c-1a9d-4a67-ad0a-a7631eec046e",
   "metadata": {},
   "outputs": [
    {
     "data": {
      "text/plain": [
       "'P'"
      ]
     },
     "execution_count": 35,
     "metadata": {},
     "output_type": "execute_result"
    }
   ],
   "source": [
    "palabra [0] # carácter en la posición 0"
   ]
  },
  {
   "cell_type": "code",
   "execution_count": 36,
   "id": "b748e36c-5eaa-4847-82e6-9ce55223000b",
   "metadata": {},
   "outputs": [
    {
     "data": {
      "text/plain": [
       "'h'"
      ]
     },
     "execution_count": 36,
     "metadata": {},
     "output_type": "execute_result"
    }
   ],
   "source": [
    "palabra[3]"
   ]
  },
  {
   "cell_type": "code",
   "execution_count": null,
   "id": "6d643b7b-45d3-4e2e-b7d1-2c0116944dee",
   "metadata": {},
   "outputs": [],
   "source": [
    "los indices negaticos-1 hace referencia al caracter de la ultima posision, el -2 al penultimo y asi sucesivamente"
   ]
  },
  {
   "cell_type": "code",
   "execution_count": 37,
   "id": "172d7595-f65a-4267-9863-258fc47d88bc",
   "metadata": {},
   "outputs": [
    {
     "data": {
      "text/plain": [
       "'n'"
      ]
     },
     "execution_count": 37,
     "metadata": {},
     "output_type": "execute_result"
    }
   ],
   "source": [
    "palabra[-1]"
   ]
  },
  {
   "cell_type": "code",
   "execution_count": 38,
   "id": "8ba23fd6-582b-4ff6-b419-9c8045073119",
   "metadata": {},
   "outputs": [
    {
     "data": {
      "text/plain": [
       "'P'"
      ]
     },
     "execution_count": 38,
     "metadata": {},
     "output_type": "execute_result"
    }
   ],
   "source": [
    "palabra[-0]"
   ]
  },
  {
   "cell_type": "code",
   "execution_count": 39,
   "id": "eaf7a109-d5d3-48c1-b01b-e1f3abf86ab0",
   "metadata": {},
   "outputs": [
    {
     "data": {
      "text/plain": [
       "'o'"
      ]
     },
     "execution_count": 39,
     "metadata": {},
     "output_type": "execute_result"
    }
   ],
   "source": [
    "palabra[-2]"
   ]
  },
  {
   "cell_type": "code",
   "execution_count": 40,
   "id": "5853a3cd-7a18-4c43-b83d-314fe8e6c60e",
   "metadata": {},
   "outputs": [
    {
     "data": {
      "text/plain": [
       "'P'"
      ]
     },
     "execution_count": 40,
     "metadata": {},
     "output_type": "execute_result"
    }
   ],
   "source": [
    "palabra[-6]"
   ]
  },
  {
   "cell_type": "code",
   "execution_count": 41,
   "id": "9ad1d95d-c58e-4021-8ff1-b56e2f3078a6",
   "metadata": {},
   "outputs": [
    {
     "data": {
      "text/plain": [
       "'n'"
      ]
     },
     "execution_count": 41,
     "metadata": {},
     "output_type": "execute_result"
    }
   ],
   "source": [
    "palabra[5]"
   ]
  }
 ],
 "metadata": {
  "kernelspec": {
   "display_name": "Python 3 (ipykernel)",
   "language": "python",
   "name": "python3"
  },
  "language_info": {
   "codemirror_mode": {
    "name": "ipython",
    "version": 3
   },
   "file_extension": ".py",
   "mimetype": "text/x-python",
   "name": "python",
   "nbconvert_exporter": "python",
   "pygments_lexer": "ipython3",
   "version": "3.13.2"
  }
 },
 "nbformat": 4,
 "nbformat_minor": 5
}
