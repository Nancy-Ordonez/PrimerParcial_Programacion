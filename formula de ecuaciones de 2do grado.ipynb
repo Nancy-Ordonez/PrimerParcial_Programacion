{
 "cells": [
  {
   "cell_type": "code",
   "execution_count": 1,
   "id": "1c7dea87-f88a-4411-bf8b-300f238e648b",
   "metadata": {},
   "outputs": [
    {
     "name": "stdin",
     "output_type": "stream",
     "text": [
      "Escriba AX 1\n",
      "Escriba Bx 7\n",
      "Escriba C 10\n"
     ]
    },
    {
     "name": "stdout",
     "output_type": "stream",
     "text": [
      "el valor de x1 es: -5.5\n",
      "el valor de x2 es: -8.5\n"
     ]
    }
   ],
   "source": [
    "import math\n",
    "a= float(input(\"Escriba AX\"))\n",
    "b=float(input(\"Escriba Bx\"))\n",
    "c=float(input(\"Escriba C\"))\n",
    "\n",
    "x1=-b+ math.sqrt(pow(b,2)-(4*a*c))/(2*a)\n",
    "x2=-b- math.sqrt(pow(b,2)-(4*a*c))/(2*a)\n",
    "\n",
    "print (\"el valor de x1 es:\",x1)\n",
    "print (\"el valor de x2 es:\",x2)"
   ]
  }
 ],
 "metadata": {
  "kernelspec": {
   "display_name": "Python 3 (ipykernel)",
   "language": "python",
   "name": "python3"
  },
  "language_info": {
   "codemirror_mode": {
    "name": "ipython",
    "version": 3
   },
   "file_extension": ".py",
   "mimetype": "text/x-python",
   "name": "python",
   "nbconvert_exporter": "python",
   "pygments_lexer": "ipython3",
   "version": "3.13.2"
  }
 },
 "nbformat": 4,
 "nbformat_minor": 5
}
