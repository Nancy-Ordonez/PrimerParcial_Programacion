{
 "cells": [
  {
   "cell_type": "code",
   "execution_count": null,
   "id": "607f1b4f-e32b-411c-81ad-274d7176c787",
   "metadata": {},
   "outputs": [],
   "source": [
    "El tipo logico\n",
    "Representa la mitad de la expresion racional:\n",
    "verdadero (true)\n",
    "falso(false)"
   ]
  },
  {
   "cell_type": "code",
   "execution_count": 2,
   "id": "7bd70e70-0b4e-480e-bcc2-93faaefc8708",
   "metadata": {},
   "outputs": [
    {
     "data": {
      "text/plain": [
       "False"
      ]
     },
     "execution_count": 2,
     "metadata": {},
     "output_type": "execute_result"
    }
   ],
   "source": [
    "1+1==3"
   ]
  },
  {
   "cell_type": "code",
   "execution_count": 3,
   "id": "15c56a9f-8cc2-42ea-b868-43946e37648d",
   "metadata": {},
   "outputs": [
    {
     "data": {
      "text/plain": [
       "True"
      ]
     },
     "execution_count": 3,
     "metadata": {},
     "output_type": "execute_result"
    }
   ],
   "source": [
    "1+1==2"
   ]
  },
  {
   "cell_type": "code",
   "execution_count": 4,
   "id": "71610cea-2925-4afc-8ab9-d69ef5f6f9e7",
   "metadata": {},
   "outputs": [
    {
     "data": {
      "text/plain": [
       "False"
      ]
     },
     "execution_count": 4,
     "metadata": {},
     "output_type": "execute_result"
    }
   ],
   "source": [
    "3==2"
   ]
  },
  {
   "cell_type": "code",
   "execution_count": 5,
   "id": "dbae3843-6cd0-4fbe-a6ce-cd1c5671d8b6",
   "metadata": {},
   "outputs": [
    {
     "data": {
      "text/plain": [
       "True"
      ]
     },
     "execution_count": 5,
     "metadata": {},
     "output_type": "execute_result"
    }
   ],
   "source": [
    "3 != 2"
   ]
  },
  {
   "cell_type": "code",
   "execution_count": 6,
   "id": "db55e8dd-3b00-4c39-94de-af49761dd202",
   "metadata": {},
   "outputs": [
    {
     "data": {
      "text/plain": [
       "True"
      ]
     },
     "execution_count": 6,
     "metadata": {},
     "output_type": "execute_result"
    }
   ],
   "source": [
    "3>2"
   ]
  },
  {
   "cell_type": "code",
   "execution_count": 7,
   "id": "0936da85-a274-4ce0-9a00-73339cccf527",
   "metadata": {},
   "outputs": [
    {
     "data": {
      "text/plain": [
       "False"
      ]
     },
     "execution_count": 7,
     "metadata": {},
     "output_type": "execute_result"
    }
   ],
   "source": [
    "3<2"
   ]
  },
  {
   "cell_type": "code",
   "execution_count": 8,
   "id": "0567f347-cbda-4e0a-ae5d-f120f1d40c9f",
   "metadata": {},
   "outputs": [
    {
     "data": {
      "text/plain": [
       "False"
      ]
     },
     "execution_count": 8,
     "metadata": {},
     "output_type": "execute_result"
    }
   ],
   "source": [
    "3>=4"
   ]
  },
  {
   "cell_type": "code",
   "execution_count": 9,
   "id": "e3879375-8486-40e4-bc90-dbf141969e38",
   "metadata": {},
   "outputs": [
    {
     "data": {
      "text/plain": [
       "True"
      ]
     },
     "execution_count": 9,
     "metadata": {},
     "output_type": "execute_result"
    }
   ],
   "source": [
    "3<=4"
   ]
  },
  {
   "cell_type": "code",
   "execution_count": null,
   "id": "dc36537e-3cf1-4ea4-8c47-e5b9a3b8f244",
   "metadata": {},
   "outputs": [],
   "source": [
    "Tambien podemos comparar variables"
   ]
  },
  {
   "cell_type": "code",
   "execution_count": 10,
   "id": "d9db5f2e-f2b8-4505-b27e-0968efa3ac80",
   "metadata": {},
   "outputs": [
    {
     "data": {
      "text/plain": [
       "True"
      ]
     },
     "execution_count": 10,
     "metadata": {},
     "output_type": "execute_result"
    }
   ],
   "source": [
    "a=10\n",
    "b=5\n",
    "a>b"
   ]
  },
  {
   "cell_type": "code",
   "execution_count": 11,
   "id": "edf9e224-3e3f-4a89-bea0-dc8969c441cf",
   "metadata": {},
   "outputs": [
    {
     "data": {
      "text/plain": [
       "True"
      ]
     },
     "execution_count": 11,
     "metadata": {},
     "output_type": "execute_result"
    }
   ],
   "source": [
    "b!=a"
   ]
  },
  {
   "cell_type": "code",
   "execution_count": 12,
   "id": "d48186dc-d6cf-4234-b7c2-5aa021bd0133",
   "metadata": {},
   "outputs": [
    {
     "data": {
      "text/plain": [
       "True"
      ]
     },
     "execution_count": 12,
     "metadata": {},
     "output_type": "execute_result"
    }
   ],
   "source": [
    "a==b*2"
   ]
  },
  {
   "cell_type": "code",
   "execution_count": null,
   "id": "1ce8df33-a99d-4960-be26-a1daaeded6a4",
   "metadata": {},
   "outputs": [],
   "source": [
    "y otros tipos de cadenas, listas,el resultado de algunas funciones o los propios tipos logicos "
   ]
  },
  {
   "cell_type": "code",
   "execution_count": 13,
   "id": "432514c1-b39a-4504-b310-4cec5fb841db",
   "metadata": {},
   "outputs": [
    {
     "data": {
      "text/plain": [
       "True"
      ]
     },
     "execution_count": 13,
     "metadata": {},
     "output_type": "execute_result"
    }
   ],
   "source": [
    "\"Hola\" == \"Hola\""
   ]
  },
  {
   "cell_type": "code",
   "execution_count": 14,
   "id": "c97708aa-fe70-4644-8073-1b4e4a6afbf4",
   "metadata": {},
   "outputs": [
    {
     "data": {
      "text/plain": [
       "False"
      ]
     },
     "execution_count": 14,
     "metadata": {},
     "output_type": "execute_result"
    }
   ],
   "source": [
    "\"Hola\" != \"Hola\""
   ]
  },
  {
   "cell_type": "code",
   "execution_count": 15,
   "id": "3c371e04-269b-4cc3-ab7e-5c29f9ad1252",
   "metadata": {},
   "outputs": [],
   "source": [
    "c= \"Hola\""
   ]
  },
  {
   "cell_type": "code",
   "execution_count": 16,
   "id": "8ef545b2-4d53-48ea-863e-914733232e6d",
   "metadata": {},
   "outputs": [
    {
     "data": {
      "text/plain": [
       "True"
      ]
     },
     "execution_count": 16,
     "metadata": {},
     "output_type": "execute_result"
    }
   ],
   "source": [
    "c[0]== \"H\""
   ]
  },
  {
   "cell_type": "code",
   "execution_count": 17,
   "id": "5a8ab4be-4d57-4a0f-aa26-3875c6eb2973",
   "metadata": {},
   "outputs": [
    {
     "data": {
      "text/plain": [
       "True"
      ]
     },
     "execution_count": 17,
     "metadata": {},
     "output_type": "execute_result"
    }
   ],
   "source": [
    "c[-1] == \"a\""
   ]
  },
  {
   "cell_type": "code",
   "execution_count": 18,
   "id": "8f65ecdd-0821-4f30-b4e7-64334499c1f0",
   "metadata": {},
   "outputs": [
    {
     "data": {
      "text/plain": [
       "False"
      ]
     },
     "execution_count": 18,
     "metadata": {},
     "output_type": "execute_result"
    }
   ],
   "source": [
    "l1=[0,1,2]\n",
    "l2=[3,4,5]\n",
    "l1==l2"
   ]
  },
  {
   "cell_type": "code",
   "execution_count": 19,
   "id": "6006aa19-0cc1-4114-8f16-25b1cbd80a9f",
   "metadata": {},
   "outputs": [
    {
     "data": {
      "text/plain": [
       "True"
      ]
     },
     "execution_count": 19,
     "metadata": {},
     "output_type": "execute_result"
    }
   ],
   "source": [
    "len(l1)==len(l2)"
   ]
  },
  {
   "cell_type": "code",
   "execution_count": 20,
   "id": "7341cefb-0983-41c3-b552-90262a46d615",
   "metadata": {},
   "outputs": [
    {
     "data": {
      "text/plain": [
       "False"
      ]
     },
     "execution_count": 20,
     "metadata": {},
     "output_type": "execute_result"
    }
   ],
   "source": [
    "l1[-1]==l2[0]"
   ]
  },
  {
   "cell_type": "code",
   "execution_count": 21,
   "id": "e8e3ebde-7fc8-4792-b5d3-dacc5e517be0",
   "metadata": {},
   "outputs": [
    {
     "data": {
      "text/plain": [
       "True"
      ]
     },
     "execution_count": 21,
     "metadata": {},
     "output_type": "execute_result"
    }
   ],
   "source": [
    "True==True"
   ]
  },
  {
   "cell_type": "code",
   "execution_count": 22,
   "id": "0a28ede1-f007-4c28-a03c-32245d240da5",
   "metadata": {},
   "outputs": [
    {
     "data": {
      "text/plain": [
       "False"
      ]
     },
     "execution_count": 22,
     "metadata": {},
     "output_type": "execute_result"
    }
   ],
   "source": [
    "False==True"
   ]
  },
  {
   "cell_type": "code",
   "execution_count": 23,
   "id": "8ee1070c-0479-4826-b5b5-472aa1047151",
   "metadata": {},
   "outputs": [
    {
     "data": {
      "text/plain": [
       "True"
      ]
     },
     "execution_count": 23,
     "metadata": {},
     "output_type": "execute_result"
    }
   ],
   "source": [
    "False!=True"
   ]
  },
  {
   "cell_type": "code",
   "execution_count": 24,
   "id": "e6edf60a-e86a-407e-810f-0bc83c547044",
   "metadata": {},
   "outputs": [
    {
     "data": {
      "text/plain": [
       "True"
      ]
     },
     "execution_count": 24,
     "metadata": {},
     "output_type": "execute_result"
    }
   ],
   "source": [
    "True>False"
   ]
  },
  {
   "cell_type": "code",
   "execution_count": 25,
   "id": "3daacddd-e311-402d-883d-9bbc7efa674e",
   "metadata": {},
   "outputs": [
    {
     "data": {
      "text/plain": [
       "False"
      ]
     },
     "execution_count": 25,
     "metadata": {},
     "output_type": "execute_result"
    }
   ],
   "source": [
    "False>True"
   ]
  },
  {
   "cell_type": "code",
   "execution_count": null,
   "id": "b9ab3d02-443e-449e-9cac-279788bc699d",
   "metadata": {},
   "outputs": [],
   "source": [
    "la representacion aritmetica de true y false equivale a 1 y 0 respectivamente"
   ]
  },
  {
   "cell_type": "code",
   "execution_count": 26,
   "id": "3e8c2104-fff6-491c-914a-b792c7a1d24f",
   "metadata": {},
   "outputs": [
    {
     "data": {
      "text/plain": [
       "3"
      ]
     },
     "execution_count": 26,
     "metadata": {},
     "output_type": "execute_result"
    }
   ],
   "source": [
    "True*3"
   ]
  },
  {
   "cell_type": "code",
   "execution_count": 27,
   "id": "63628b6d-ba47-4a14-8240-0f224a07eef2",
   "metadata": {},
   "outputs": [
    {
     "data": {
      "text/plain": [
       "True"
      ]
     },
     "execution_count": 27,
     "metadata": {},
     "output_type": "execute_result"
    }
   ],
   "source": [
    "True==1"
   ]
  },
  {
   "cell_type": "code",
   "execution_count": 28,
   "id": "a2423655-ac66-4b59-aa6f-549fd0363b52",
   "metadata": {},
   "outputs": [
    {
     "data": {
      "text/plain": [
       "False"
      ]
     },
     "execution_count": 28,
     "metadata": {},
     "output_type": "execute_result"
    }
   ],
   "source": [
    "True==2"
   ]
  },
  {
   "cell_type": "code",
   "execution_count": 29,
   "id": "c2def13f-6e4f-4523-8326-1b4e03b5c5fb",
   "metadata": {},
   "outputs": [
    {
     "data": {
      "text/plain": [
       "False"
      ]
     },
     "execution_count": 29,
     "metadata": {},
     "output_type": "execute_result"
    }
   ],
   "source": [
    "False ==1"
   ]
  },
  {
   "cell_type": "code",
   "execution_count": 30,
   "id": "665e8cfd-0de5-4332-9ef5-896b0df6498c",
   "metadata": {},
   "outputs": [
    {
     "data": {
      "text/plain": [
       "True"
      ]
     },
     "execution_count": 30,
     "metadata": {},
     "output_type": "execute_result"
    }
   ],
   "source": [
    "False==0"
   ]
  },
  {
   "cell_type": "code",
   "execution_count": 31,
   "id": "7dd30949-8a11-419e-a58c-18d6001018bf",
   "metadata": {},
   "outputs": [
    {
     "data": {
      "text/plain": [
       "0"
      ]
     },
     "execution_count": 31,
     "metadata": {},
     "output_type": "execute_result"
    }
   ],
   "source": [
    "True*False"
   ]
  },
  {
   "cell_type": "code",
   "execution_count": null,
   "id": "045d9b2e-1636-4f8c-91b5-b1fb56d37cd6",
   "metadata": {},
   "outputs": [],
   "source": [
    "operadores logicos \n",
    "encontramos 3 basicos\n",
    "and(conjuncion logica)\n",
    "not(negacion)\n",
    "or(disyucion)"
   ]
  },
  {
   "cell_type": "code",
   "execution_count": 32,
   "id": "ac06311d-4e95-46ee-9839-f966190f40e5",
   "metadata": {},
   "outputs": [
    {
     "data": {
      "text/plain": [
       "False"
      ]
     },
     "execution_count": 32,
     "metadata": {},
     "output_type": "execute_result"
    }
   ],
   "source": [
    "not True"
   ]
  },
  {
   "cell_type": "code",
   "execution_count": 33,
   "id": "bde601f9-652f-4b7d-9741-ce0d20dfe40d",
   "metadata": {},
   "outputs": [
    {
     "data": {
      "text/plain": [
       "True"
      ]
     },
     "execution_count": 33,
     "metadata": {},
     "output_type": "execute_result"
    }
   ],
   "source": [
    "not True==False"
   ]
  },
  {
   "cell_type": "code",
   "execution_count": 34,
   "id": "9b99509e-b61c-443f-9a43-9b399237fdf2",
   "metadata": {},
   "outputs": [
    {
     "data": {
      "text/plain": [
       "False"
      ]
     },
     "execution_count": 34,
     "metadata": {},
     "output_type": "execute_result"
    }
   ],
   "source": [
    "True and False"
   ]
  },
  {
   "cell_type": "code",
   "execution_count": 35,
   "id": "de146a80-5ce9-4cb4-9b85-f57219447f75",
   "metadata": {},
   "outputs": [
    {
     "data": {
      "text/plain": [
       "True"
      ]
     },
     "execution_count": 35,
     "metadata": {},
     "output_type": "execute_result"
    }
   ],
   "source": [
    "True and True"
   ]
  },
  {
   "cell_type": "code",
   "execution_count": 36,
   "id": "0d36f012-4f9f-4a3b-98bd-3860efc5f6e6",
   "metadata": {},
   "outputs": [
    {
     "data": {
      "text/plain": [
       "False"
      ]
     },
     "execution_count": 36,
     "metadata": {},
     "output_type": "execute_result"
    }
   ],
   "source": [
    "False and True"
   ]
  },
  {
   "cell_type": "code",
   "execution_count": 37,
   "id": "d295f538-2fa5-429b-80c0-922aede5ac16",
   "metadata": {},
   "outputs": [
    {
     "data": {
      "text/plain": [
       "False"
      ]
     },
     "execution_count": 37,
     "metadata": {},
     "output_type": "execute_result"
    }
   ],
   "source": [
    "False and False"
   ]
  },
  {
   "cell_type": "code",
   "execution_count": 38,
   "id": "335797bb-40aa-4ada-8e8a-4b25ee714342",
   "metadata": {},
   "outputs": [
    {
     "data": {
      "text/plain": [
       "False"
      ]
     },
     "execution_count": 38,
     "metadata": {},
     "output_type": "execute_result"
    }
   ],
   "source": [
    "a=45\n",
    "a>10 and a<20"
   ]
  },
  {
   "cell_type": "code",
   "execution_count": 39,
   "id": "64983111-7052-4dfd-a6ec-750f7515b701",
   "metadata": {},
   "outputs": [
    {
     "data": {
      "text/plain": [
       "False"
      ]
     },
     "execution_count": 39,
     "metadata": {},
     "output_type": "execute_result"
    }
   ],
   "source": [
    "c=\"Hola mundo\"\n",
    "len(c)>=20 and c[0]==\"H\""
   ]
  },
  {
   "cell_type": "code",
   "execution_count": 40,
   "id": "9e22c577-2040-49cd-96a5-edfb254ddc88",
   "metadata": {},
   "outputs": [
    {
     "data": {
      "text/plain": [
       "True"
      ]
     },
     "execution_count": 40,
     "metadata": {},
     "output_type": "execute_result"
    }
   ],
   "source": [
    "True or False"
   ]
  },
  {
   "cell_type": "code",
   "execution_count": 41,
   "id": "bfb59e22-d493-467d-b1c3-8bba484506f7",
   "metadata": {},
   "outputs": [
    {
     "data": {
      "text/plain": [
       "True"
      ]
     },
     "execution_count": 41,
     "metadata": {},
     "output_type": "execute_result"
    }
   ],
   "source": [
    "True or True"
   ]
  },
  {
   "cell_type": "code",
   "execution_count": 42,
   "id": "91246e50-ec7f-4a2d-84a5-0c35a570d983",
   "metadata": {},
   "outputs": [
    {
     "data": {
      "text/plain": [
       "True"
      ]
     },
     "execution_count": 42,
     "metadata": {},
     "output_type": "execute_result"
    }
   ],
   "source": [
    "False or True"
   ]
  },
  {
   "cell_type": "code",
   "execution_count": 43,
   "id": "6ee88b94-e82e-4cf8-ad33-e1ea9e2a6d4f",
   "metadata": {},
   "outputs": [
    {
     "data": {
      "text/plain": [
       "False"
      ]
     },
     "execution_count": 43,
     "metadata": {},
     "output_type": "execute_result"
    }
   ],
   "source": [
    "False or False"
   ]
  },
  {
   "cell_type": "code",
   "execution_count": 44,
   "id": "30a6ef75-55cc-4b31-b42a-c461f6165cb4",
   "metadata": {},
   "outputs": [
    {
     "data": {
      "text/plain": [
       "False"
      ]
     },
     "execution_count": 44,
     "metadata": {},
     "output_type": "execute_result"
    }
   ],
   "source": [
    "c=\"OTRA COSA\"\n",
    "c==\"EXIT\" or c==\"FIN\" or c==\"SALIR\""
   ]
  },
  {
   "cell_type": "code",
   "execution_count": 45,
   "id": "c311a9e1-364a-4ccd-b684-3b6653feffa5",
   "metadata": {},
   "outputs": [
    {
     "data": {
      "text/plain": [
       "False"
      ]
     },
     "execution_count": 45,
     "metadata": {},
     "output_type": "execute_result"
    }
   ],
   "source": [
    "c= \"Lector\"\n",
    "c[0] ==\"H\" or c[0] ==\"h\""
   ]
  },
  {
   "cell_type": "code",
   "execution_count": null,
   "id": "a51b80b8-09f2-4dda-850e-a03968e989a1",
   "metadata": {},
   "outputs": [],
   "source": [
    "expresion anidadas se pueden solucionar empleando las reglas de presedencia\n",
    "1. primero los parentesis porque tienen prioridad\n",
    "2. segundo las expresiones aritmeticas por sus propias reglas\n",
    "3. tercero las expresiones racionales\n",
    "4. cuarto la expresion logica"
   ]
  },
  {
   "cell_type": "code",
   "execution_count": 46,
   "id": "c5e06f83-e1b2-485b-b3cf-e3b060274caf",
   "metadata": {},
   "outputs": [
    {
     "data": {
      "text/plain": [
       "False"
      ]
     },
     "execution_count": 46,
     "metadata": {},
     "output_type": "execute_result"
    }
   ],
   "source": [
    "a=10\n",
    "b=5\n",
    "a*b-2**b>=20 and not (a%b)!=0"
   ]
  },
  {
   "cell_type": "code",
   "execution_count": null,
   "id": "65f14912-9ad9-4876-9132-f76ebe564513",
   "metadata": {},
   "outputs": [],
   "source": []
  }
 ],
 "metadata": {
  "kernelspec": {
   "display_name": "Python 3 (ipykernel)",
   "language": "python",
   "name": "python3"
  },
  "language_info": {
   "codemirror_mode": {
    "name": "ipython",
    "version": 3
   },
   "file_extension": ".py",
   "mimetype": "text/x-python",
   "name": "python",
   "nbconvert_exporter": "python",
   "pygments_lexer": "ipython3",
   "version": "3.13.2"
  }
 },
 "nbformat": 4,
 "nbformat_minor": 5
}
