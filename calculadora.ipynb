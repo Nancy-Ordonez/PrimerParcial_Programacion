{
 "cells": [
  {
   "cell_type": "code",
   "execution_count": null,
   "id": "e57aa636-5a63-4440-9c80-bf5aa734d1b8",
   "metadata": {},
   "outputs": [],
   "source": [
    "calculadora"
   ]
  },
  {
   "cell_type": "code",
   "execution_count": 16,
   "id": "ba9e567d-c8b5-4161-8bfa-a481c497a190",
   "metadata": {},
   "outputs": [],
   "source": [
    "num1=10\n",
    "num2=9"
   ]
  },
  {
   "cell_type": "code",
   "execution_count": 17,
   "id": "b9bada4c-cd60-481b-af20-e0b707f8db20",
   "metadata": {},
   "outputs": [
    {
     "name": "stdout",
     "output_type": "stream",
     "text": [
      "la sumatoria del numero 1:  10 y el numero 2:  9 es:  19\n"
     ]
    }
   ],
   "source": [
    "print (\"la sumatoria del numero 1: \",num1,\"y el numero 2: \",num2,\"es: \",num1+num2)"
   ]
  },
  {
   "cell_type": "code",
   "execution_count": 18,
   "id": "72f03557-bc98-4239-9418-630d2c8cf1ce",
   "metadata": {},
   "outputs": [
    {
     "name": "stdout",
     "output_type": "stream",
     "text": [
      "la sustraccion del numero 1:  10 y el numero 2:  9 es:  1\n"
     ]
    }
   ],
   "source": [
    "print (\"la sustraccion del numero 1: \",num1,\"y el numero 2: \",num2,\"es: \",num1-num2)"
   ]
  },
  {
   "cell_type": "code",
   "execution_count": 19,
   "id": "c3367a3d-27e8-4172-b299-d2176078a32e",
   "metadata": {},
   "outputs": [
    {
     "name": "stdout",
     "output_type": "stream",
     "text": [
      "la multiplicacion del numero 1:  10 y el numero 2:  9 es:  90\n"
     ]
    }
   ],
   "source": [
    "print (\"la multiplicacion del numero 1: \",num1,\"y el numero 2: \",num2,\"es: \",num1*num2)"
   ]
  },
  {
   "cell_type": "code",
   "execution_count": 20,
   "id": "7b11cabc-8cb3-4d66-9ba6-d5efb9b1d562",
   "metadata": {},
   "outputs": [
    {
     "name": "stdout",
     "output_type": "stream",
     "text": [
      "la division del numero 1:  10 y el numero 2:  9 es:  1.1111111111111112\n"
     ]
    }
   ],
   "source": [
    "print (\"la division del numero 1: \",num1,\"y el numero 2: \",num2,\"es: \",num1/num2)"
   ]
  }
 ],
 "metadata": {
  "kernelspec": {
   "display_name": "Python 3 (ipykernel)",
   "language": "python",
   "name": "python3"
  },
  "language_info": {
   "codemirror_mode": {
    "name": "ipython",
    "version": 3
   },
   "file_extension": ".py",
   "mimetype": "text/x-python",
   "name": "python",
   "nbconvert_exporter": "python",
   "pygments_lexer": "ipython3",
   "version": "3.13.2"
  }
 },
 "nbformat": 4,
 "nbformat_minor": 5
}
