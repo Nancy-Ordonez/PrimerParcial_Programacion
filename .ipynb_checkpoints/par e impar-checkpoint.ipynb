{
 "cells": [
  {
   "cell_type": "code",
   "execution_count": null,
   "id": "68f2d00f-bc2f-48a9-9a76-0450116eda19",
   "metadata": {},
   "outputs": [],
   "source": [
    "ejemplo de cabecera"
   ]
  },
  {
   "cell_type": "code",
   "execution_count": 5,
   "id": "ad8d11a7-7230-4d39-95c9-1b444fa2f55a",
   "metadata": {},
   "outputs": [
    {
     "name": "stdout",
     "output_type": "stream",
     "text": [
      "0 es un par\n",
      "1 es un numero impar\n",
      "2 es un par\n",
      "3 es un numero impar\n",
      "4 es un par\n",
      "5 es un numero impar\n",
      "6 es un par\n",
      "7 es un numero impar\n",
      "8 es un par\n",
      "9 es un numero impar\n"
     ]
    }
   ],
   "source": [
    "n=0\n",
    "while n<10:\n",
    "    if (n % 2)==0:\n",
    "        print (n,'es un par')\n",
    "    else:\n",
    "        print (n,'es un numero impar')\n",
    "    n=n+1"
   ]
  },
  {
   "cell_type": "code",
   "execution_count": null,
   "id": "cc182f08-d686-4ea5-a386-18f595f139c7",
   "metadata": {},
   "outputs": [],
   "source": []
  }
 ],
 "metadata": {
  "kernelspec": {
   "display_name": "Python 3 (ipykernel)",
   "language": "python",
   "name": "python3"
  },
  "language_info": {
   "codemirror_mode": {
    "name": "ipython",
    "version": 3
   },
   "file_extension": ".py",
   "mimetype": "text/x-python",
   "name": "python",
   "nbconvert_exporter": "python",
   "pygments_lexer": "ipython3",
   "version": "3.13.2"
  }
 },
 "nbformat": 4,
 "nbformat_minor": 5
}
