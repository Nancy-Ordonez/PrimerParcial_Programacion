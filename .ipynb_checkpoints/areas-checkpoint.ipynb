{
 "cells": [
  {
   "cell_type": "code",
   "execution_count": null,
   "id": "27a3eec9-fe0c-4d05-8e0f-e8a87601c19e",
   "metadata": {},
   "outputs": [],
   "source": [
    "ar=base*altura"
   ]
  },
  {
   "cell_type": "code",
   "execution_count": 2,
   "id": "70be3447-270f-4d03-96ec-d567bc8be3e7",
   "metadata": {},
   "outputs": [
    {
     "name": "stdin",
     "output_type": "stream",
     "text": [
      "escriba el valor de la altura 8\n",
      "escriba el valor de la base 4\n"
     ]
    },
    {
     "name": "stdout",
     "output_type": "stream",
     "text": [
      "la area del rectangulo mide: 32.0\n"
     ]
    }
   ],
   "source": [
    "altura= float (input(\"escriba el valor de la altura\"))\n",
    "base= float (input(\"escriba el valor de la base\"))\n",
    "a= base * altura\n",
    "print (\"la area del rectangulo mide:\",a)"
   ]
  },
  {
   "cell_type": "code",
   "execution_count": 3,
   "id": "78f2e790-851e-474e-9c61-31ee438f7a94",
   "metadata": {},
   "outputs": [
    {
     "name": "stdin",
     "output_type": "stream",
     "text": [
      "escriba el valor de la altura 8\n",
      "escriba el valor de la base 4\n"
     ]
    },
    {
     "name": "stdout",
     "output_type": "stream",
     "text": [
      "la area del rectangulo mide: 16.0\n"
     ]
    }
   ],
   "source": [
    "altura= float (input(\"escriba el valor de la altura\"))\n",
    "base= float (input(\"escriba el valor de la base\"))\n",
    "a= (base * altura)/2\n",
    "print (\"la area del rectangulo mide:\",a)"
   ]
  }
 ],
 "metadata": {
  "kernelspec": {
   "display_name": "Python 3 (ipykernel)",
   "language": "python",
   "name": "python3"
  },
  "language_info": {
   "codemirror_mode": {
    "name": "ipython",
    "version": 3
   },
   "file_extension": ".py",
   "mimetype": "text/x-python",
   "name": "python",
   "nbconvert_exporter": "python",
   "pygments_lexer": "ipython3",
   "version": "3.13.2"
  }
 },
 "nbformat": 4,
 "nbformat_minor": 5
}
