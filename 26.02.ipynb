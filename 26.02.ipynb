{
 "cells": [
  {
   "cell_type": "code",
   "execution_count": 16,
   "id": "5dda3293-34ec-4119-8b0e-75a12c5cd870",
   "metadata": {},
   "outputs": [
    {
     "name": "stdin",
     "output_type": "stream",
     "text": [
      "Horas trabajadas por semana: 40\n",
      "pago por horas trabajadas por semana: 25\n"
     ]
    },
    {
     "name": "stdout",
     "output_type": "stream",
     "text": [
      "el salario a la semana es: 1000\n",
      "el salario mensual es: 4000\n",
      "las deducciones son de: 15.0\n",
      "las deducciones mensuales son de: 60.0\n",
      "las deducciones son: 10.0\n",
      "la duduccion mensual es de: 40.0\n",
      "el salario neto semanla es: 975.0\n",
      "el salario neto mensual es:  3900.0\n"
     ]
    }
   ],
   "source": [
    "horas_trabajadas = int(input(\"Horas trabajadas por semana:\"))\n",
    "pago_por_hora = int(input(\"pago por horas trabajadas por semana:\"))\n",
    "salario_a_la_semana = horas_trabajadas * pago_por_hora\n",
    "print (\"el salario a la semana es:\", salario_a_la_semana)\n",
    "salario_mensual = salario_a_la_semana * 4\n",
    "print (\"el salario mensual es:\",salario_mensual)\n",
    "deduccion_semanal = (salario_a_la_semana * 0.015)\n",
    "print (\"las deducciones son de:\",deduccion_semanal )\n",
    "deduccion_mesual = (deduccion_semanal* 4)\n",
    "print (\"las deducciones mensuales son de:\", deduccion_mesual)\n",
    "deduccion_semanal1 = salario_a_la_semana * 0.01 \n",
    "print (\"las deducciones son:\", deduccion_semanal1)\n",
    "deduccion_mensual1 = salario_mensual * 0.01\n",
    "print (\"la duduccion mensual es de:\",deduccion_mensual1)\n",
    "salario_neto_semanal= (salario_a_la_semana- deduccion_semanal - deduccion_semanal1)\n",
    "print (\"el salario neto semanla es:\",salario_neto_semanal)\n",
    "salario_neto_mensual=salario_mensual-deduccion_mesual-deduccion_mensual1\n",
    "print (\"el salario neto mensual es: \",salario_neto_mensual)"
   ]
  },
  {
   "cell_type": "code",
   "execution_count": null,
   "id": "74ea5f90-c2ed-4d95-a8a6-9ab73561bf8b",
   "metadata": {},
   "outputs": [],
   "source": []
  }
 ],
 "metadata": {
  "kernelspec": {
   "display_name": "Python 3 (ipykernel)",
   "language": "python",
   "name": "python3"
  },
  "language_info": {
   "codemirror_mode": {
    "name": "ipython",
    "version": 3
   },
   "file_extension": ".py",
   "mimetype": "text/x-python",
   "name": "python",
   "nbconvert_exporter": "python",
   "pygments_lexer": "ipython3",
   "version": "3.13.2"
  }
 },
 "nbformat": 4,
 "nbformat_minor": 5
}
