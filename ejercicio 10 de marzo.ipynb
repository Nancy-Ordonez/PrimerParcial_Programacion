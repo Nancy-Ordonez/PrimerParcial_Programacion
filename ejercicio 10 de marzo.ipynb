{
 "cells": [
  {
   "cell_type": "code",
   "execution_count": 9,
   "id": "fef0f089-7805-4761-8e2d-6dc59f2cb0e2",
   "metadata": {},
   "outputs": [
    {
     "name": "stdin",
     "output_type": "stream",
     "text": [
      "Escriba la cantidad de kilometros que recorrio 90\n",
      "Escriba la cantidad de kilometros que recorre por galon 4\n"
     ]
    },
    {
     "name": "stdout",
     "output_type": "stream",
     "text": [
      "los galones necesarios son: 22.5\n",
      "El precio de los galones es de: 900.0\n"
     ]
    }
   ],
   "source": [
    "kilometros= float(input(\"Escriba la cantidad de kilometros que recorrio\"))\n",
    "galones=float(input(\"Escriba la cantidad de kilometros que recorre por galon\"))\n",
    "precio_galon= 40\n",
    "galones_necesario=kilometros/galones\n",
    "print (\"los galones necesarios son:\",galones_necesario)\n",
    "precio_galon_km= galones_necesario * precio_galon\n",
    "print (\"El precio de los galones es de:\", precio_galon_km)"
   ]
  },
  {
   "cell_type": "code",
   "execution_count": null,
   "id": "6d584e63-a73f-494f-affc-00556f310f8d",
   "metadata": {},
   "outputs": [],
   "source": []
  }
 ],
 "metadata": {
  "kernelspec": {
   "display_name": "Python 3 (ipykernel)",
   "language": "python",
   "name": "python3"
  },
  "language_info": {
   "codemirror_mode": {
    "name": "ipython",
    "version": 3
   },
   "file_extension": ".py",
   "mimetype": "text/x-python",
   "name": "python",
   "nbconvert_exporter": "python",
   "pygments_lexer": "ipython3",
   "version": "3.13.2"
  }
 },
 "nbformat": 4,
 "nbformat_minor": 5
}
