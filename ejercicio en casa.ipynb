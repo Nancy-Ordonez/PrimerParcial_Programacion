{
 "cells": [
  {
   "cell_type": "code",
   "execution_count": 2,
   "id": "62a7a94d-2ada-4eed-87cc-63ba7e58604b",
   "metadata": {},
   "outputs": [],
   "source": [
    "#un alquiler de automoviles, al proporcionarle al computador el nummero de dias que fue alquilado el automovil \n",
    "#y el numero de kilometros recorridos calcular el total a pagar por el cliente si por cada kilometro se pagan 0.75 lps.;\n",
    "#400.00 lps. por cada dia, el 10% de impuestos y ademas se paga 800.00 lps por el seguro\n",
    "\n",
    "#el programa pide que al usuario que ingrese el numero de dias que fue alquilado el automovil y el numero de kilometros \n",
    "#recorridos para calcular el total a pagar "
   ]
  },
  {
   "cell_type": "code",
   "execution_count": 6,
   "id": "3f9ddf11-e375-41ac-800e-98a6891a0a6b",
   "metadata": {},
   "outputs": [
    {
     "name": "stdin",
     "output_type": "stream",
     "text": [
      "Escriba el numero de dias que alquilo el automovil: 1\n",
      "Escriba el numero de kilometros que recorrio: 10\n"
     ]
    },
    {
     "name": "stdout",
     "output_type": "stream",
     "text": [
      "El total a pagar por kilometros es: 7.5\n",
      "El total a pagar por dias es: 400.0\n",
      "El total a pagar sin aplicar impuestos es: 1207.5\n",
      "El total a pagar es: 1328.25\n"
     ]
    }
   ],
   "source": [
    "dias= float(input(\"Escriba el numero de dias que alquilo el automovil:\"))\n",
    "kilometros= float(input(\"Escriba el numero de kilometros que recorrio:\"))\n",
    "total_por_kilometros=kilometros*0.75\n",
    "print (\"El total a pagar por kilometros es:\", total_por_kilometros)\n",
    "total_por_dias=dias*400\n",
    "print (\"El total a pagar por dias es:\",total_por_dias)\n",
    "seguro=800\n",
    "total_sin_impuestos=total_por_kilometros+total_por_dias+seguro\n",
    "print (\"El total a pagar sin aplicar impuestos es:\",total_sin_impuestos)\n",
    "total_con_impuestos=(total_sin_impuestos*0.10)+ total_sin_impuestos\n",
    "print (\"El total a pagar es:\",total_con_impuestos)"
   ]
  },
  {
   "cell_type": "code",
   "execution_count": null,
   "id": "45f689a7-c3ba-460c-9186-01d366c3f4cf",
   "metadata": {},
   "outputs": [],
   "source": []
  },
  {
   "cell_type": "code",
   "execution_count": null,
   "id": "d36b39e2-bde0-446e-ae23-c21a3037adb8",
   "metadata": {},
   "outputs": [],
   "source": []
  }
 ],
 "metadata": {
  "kernelspec": {
   "display_name": "Python 3 (ipykernel)",
   "language": "python",
   "name": "python3"
  },
  "language_info": {
   "codemirror_mode": {
    "name": "ipython",
    "version": 3
   },
   "file_extension": ".py",
   "mimetype": "text/x-python",
   "name": "python",
   "nbconvert_exporter": "python",
   "pygments_lexer": "ipython3",
   "version": "3.13.2"
  }
 },
 "nbformat": 4,
 "nbformat_minor": 5
}
