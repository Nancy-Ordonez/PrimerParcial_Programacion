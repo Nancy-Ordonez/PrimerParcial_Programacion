{
 "cells": [
  {
   "cell_type": "code",
   "execution_count": null,
   "id": "68c09bd0",
   "metadata": {},
   "outputs": [],
   "source": [
    "#sentencia if(si)\n",
    "#permite dividir rl flujo de un programa en diferentes programas en diferentes caminos"
   ]
  },
  {
   "cell_type": "code",
   "execution_count": null,
   "id": "8503dee9",
   "metadata": {},
   "outputs": [],
   "source": [
    "if True:\n",
    "    print(\"se cumple la condicion\")\n",
    "    print(\"tambien se muestra este print\")\n",
    "    print(\"imprime de todas formas hasta el final\")"
   ]
  },
  {
   "cell_type": "code",
   "execution_count": null,
   "id": "5727bda2",
   "metadata": {},
   "outputs": [],
   "source": [
    "a=5\n",
    "b=10\n",
    "if a ==2:\n",
    " print(\"a vale 2\")\n",
    "if a ==5:\n",
    " print(\"a vale 5\")\n"
   ]
  },
  {
   "cell_type": "code",
   "execution_count": null,
   "id": "a0eae602",
   "metadata": {},
   "outputs": [],
   "source": [
    "a=5\n",
    "b=11\n",
    "if a ==5:\n",
    "   print(\"a vale\", a)\n",
    "   if b ==11:\n",
    "       print(\"a vale\", b)\n",
    "print(\"valor de a y b\",a,b)"
   ]
  },
  {
   "cell_type": "code",
   "execution_count": null,
   "id": "4de80619",
   "metadata": {},
   "outputs": [],
   "source": [
    "#sentencia else (Sino si)\n",
    "#se encadena a un if para cpmprobar el caso contrario(en el que no se cumple la condicion)"
   ]
  },
  {
   "cell_type": "code",
   "execution_count": null,
   "id": "1411062e",
   "metadata": {},
   "outputs": [],
   "source": [
    "n=11\n",
    "if n % 2==0:\n",
    "    print(n,\"es un numero par\")\n",
    "else:\n",
    "    print(n,\"es un numero impar\")"
   ]
  },
  {
   "cell_type": "code",
   "execution_count": null,
   "id": "9bebe3f7",
   "metadata": {},
   "outputs": [],
   "source": [
    "#sentencia elif (sino si)\n",
    "#se encadena a un if u otro rlif para comprobar multiples condiciones, siempre que las anteriores no se ejecuten"
   ]
  },
  {
   "cell_type": "code",
   "execution_count": null,
   "id": "e69d5652",
   "metadata": {},
   "outputs": [],
   "source": [
    "comando=\"OTRA COSA\"\n",
    "if comando==\"ENTRAR\":\n",
    "    print(\"Bienvenidos al sistema\")\n",
    "elif comando==\"SALUDAR\":\n",
    "    print(\"Hola, espero que te lo estes pasando bien aprendiendo python\")\n",
    "elif comando==\"SALI\":\n",
    "    print(\"Saliendo del sistema...\")\n",
    "else:\n",
    "    print(\"Este comando no se conoce\")"
   ]
  },
  {
   "cell_type": "code",
   "execution_count": null,
   "id": "64ebea45",
   "metadata": {},
   "outputs": [],
   "source": [
    "nota = float(input(\"Introduce una nota: \"))\n",
    "if nota >= 9:\n",
    " print(\"Sobresaliente\")\n",
    "elif nota >= 7:\n",
    " print(\"Notable\")\n",
    "elif nota >= 6:\n",
    " print(\"Bien\")\n",
    "elif nota >= 5:\n",
    " print(\"Suficiente\")\n",
    "else:\n",
    " print(\"Insuficiente\")"
   ]
  },
  {
   "cell_type": "code",
   "execution_count": null,
   "id": "bac79d4d",
   "metadata": {},
   "outputs": [],
   "source": [
    "#Es posible simular el funcionamiento de elif con if utilizando expresiones condicionales\n",
    "nota = float(input(\"Introduce una nota: \"))\n",
    "if nota >= 9:\n",
    " print(\"Sobresaliente\")\n",
    "if nota >= 7 and nota < 9:\n",
    " print(\"Notable\")\n",
    "if nota >= 6 and nota < 7: print(\"Bien\")\n",
    "if nota >= 5 and nota < 6:\n",
    "  print(\"Suficiente\")\n",
    "if nota < 5:\n",
    " print(\"Insuficiente\")"
   ]
  },
  {
   "cell_type": "code",
   "execution_count": null,
   "id": "29f10b0e",
   "metadata": {},
   "outputs": [],
   "source": [
    "#Instrucción Pass\n",
    "#Sirve para finalizar un bloque, se puede utilizar en un bloque vacío."
   ]
  },
  {
   "cell_type": "code",
   "execution_count": null,
   "id": "4d7136e3",
   "metadata": {},
   "outputs": [],
   "source": [
    "if True:\n",
    "  pass"
   ]
  },
  {
   "cell_type": "code",
   "execution_count": null,
   "id": "48872ad8",
   "metadata": {},
   "outputs": [],
   "source": [
    "#ITERACIONES\n",
    "#Iterar significa realizar una acción varias veces. Cada vez que se repite se denomina iteración.\n",
    "#Sentencia While (Mientras)\n",
    "#Se basa en repetir un bloque a partir de evaluar una condición lógica, siempre que ésta sea True.\n",
    "#Queda en las manos del programador decidir el momento en que la condición cambie a False para hacer que el While finalice.\n",
    "C=0\n",
    "while C<= 10:\n",
    "  C+=1\n",
    "  print(\"c vale\",C)"
   ]
  },
  {
   "cell_type": "code",
   "execution_count": null,
   "id": "620e5dbb",
   "metadata": {},
   "outputs": [],
   "source": [
    "#Sentencia Else en bucle While\n",
    "#Se encadena al While para ejecutar un bloque de código una vez la condición ya no devuelve True (normalmente al final).\n",
    "C=0\n",
    "while C <= 5:\n",
    "    C+=1\n",
    "    print(\"c vale\",C)\n",
    "else:\n",
    "    print(\"Se ha completado toda la iteración y c vale\",C)\n"
   ]
  },
  {
   "cell_type": "code",
   "execution_count": null,
   "id": "d4960722",
   "metadata": {},
   "outputs": [],
   "source": [
    "#Instrucción Break\n",
    "#Sirve para \"romper\" la ejecución del While en cualquier momento. No se ejecutará el Else, ya que éste sólo se llama al finalizar la iteración.\n",
    "c=0\n",
    "while c<= 5:\n",
    "    c+=1\n",
    "    if (c==4):\n",
    "        print(\"Rompemos el bucle cuando c vale\",c)\n",
    "        break\n",
    "    print(\"c vale\",c)\n",
    "else:\n",
    "  print(\"Se ha completado toda la iteración y c vale\",c)"
   ]
  },
  {
   "cell_type": "code",
   "execution_count": null,
   "id": "301d38ee",
   "metadata": {},
   "outputs": [],
   "source": [
    "#Instrucción Continue\n",
    "#Sirve para \"saltarse\" la iteración actual sin romper el bucle.\n",
    "c=0\n",
    "while c<= 5:\n",
    " c+=1\n",
    " if c==3 or c==4:\n",
    "   print(\"Continuamos con la siguiente iteración\",c)\n",
    " continue\n",
    " print(\"c vale\",c)\n",
    "else:\n",
    " print(\"Se ha completado toda la iteración y c vale\",c)"
   ]
  },
  {
   "cell_type": "code",
   "execution_count": null,
   "id": "e805f53e",
   "metadata": {},
   "outputs": [],
   "source": [
    "#Creando un menú interactivo\n",
    "print(\"Bienvenido al menú interactivo\")\n",
    "while (True):\n",
    "  print(\"\"\"¿Qué quieres hacer? Escribe una opción \n",
    "  1) Saludar\n",
    "  2) Sumar dos números\n",
    "  3) Salir\"\"\")\n",
    "  opcion = input()\n",
    "  if opcion == '1':\n",
    "    print(\"Hola, espero que te lo estés pasando bien\") \n",
    "  elif opcion == '2':\n",
    "    n1 = float(input(\"Introduce el primer número: \"))\n",
    "    n2 = float(input(\"Introduce el segundo número: \")) \n",
    "    print(\"El resultado de la suma es: \",n1+n2)\n",
    "  elif opcion =='3':\n",
    "    print(\"¡Hasta luego! Ha sido un placer ayudarte\") \n",
    "    break\n",
    "  else:\n",
    "    print(\"Comando desconocido, vuelve a intentarlo\")\n"
   ]
  }
 ],
 "metadata": {
  "kernelspec": {
   "display_name": "Python 3",
   "language": "python",
   "name": "python3"
  },
  "language_info": {
   "codemirror_mode": {
    "name": "ipython",
    "version": 3
   },
   "file_extension": ".py",
   "mimetype": "text/x-python",
   "name": "python",
   "nbconvert_exporter": "python",
   "pygments_lexer": "ipython3",
   "version": "3.13.2"
  }
 },
 "nbformat": 4,
 "nbformat_minor": 5
}
