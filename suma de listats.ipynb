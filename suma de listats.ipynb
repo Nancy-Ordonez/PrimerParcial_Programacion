{
 "cells": [
  {
   "cell_type": "code",
   "execution_count": null,
   "id": "54800a80-d770-4a7f-b570-c7b50523092a",
   "metadata": {},
   "outputs": [],
   "source": [
    "las listas, tipo compuesto de dato que puede almacenar distintos valores (llamados items) ordenados entre [] y separados con comas"
   ]
  },
  {
   "cell_type": "code",
   "execution_count": null,
   "id": "6f8fb4cb-8d52-4d4b-a50f-496a76772318",
   "metadata": {},
   "outputs": [],
   "source": [
    "numeros = [1,2,3,4]"
   ]
  },
  {
   "cell_type": "code",
   "execution_count": 49,
   "id": "4db2f316-f91a-4b8a-b4b7-95a460a3663e",
   "metadata": {},
   "outputs": [],
   "source": [
    "datos = [4,\"una cadena\",-15,3.14,\"otra cadena\"]"
   ]
  },
  {
   "cell_type": "code",
   "execution_count": 50,
   "id": "a07a63b5-92dc-4f5a-aa7e-d28e22b2e0af",
   "metadata": {},
   "outputs": [
    {
     "data": {
      "text/plain": [
       "4"
      ]
     },
     "execution_count": 50,
     "metadata": {},
     "output_type": "execute_result"
    }
   ],
   "source": [
    "datos[0]"
   ]
  },
  {
   "cell_type": "code",
   "execution_count": 52,
   "id": "51df8848-e727-45b8-9ca6-0dded818edd4",
   "metadata": {},
   "outputs": [
    {
     "data": {
      "text/plain": [
       "[3.14, 'otra cadena']"
      ]
     },
     "execution_count": 52,
     "metadata": {},
     "output_type": "execute_result"
    }
   ],
   "source": [
    "datos[-2:]"
   ]
  },
  {
   "cell_type": "code",
   "execution_count": 53,
   "id": "fe294741-80b1-45b6-9522-0440116f2212",
   "metadata": {},
   "outputs": [
    {
     "data": {
      "text/plain": [
       "'n'"
      ]
     },
     "execution_count": 53,
     "metadata": {},
     "output_type": "execute_result"
    }
   ],
   "source": [
    "datos[1][8]"
   ]
  },
  {
   "cell_type": "code",
   "execution_count": 54,
   "id": "346dd770-882e-49d5-ae4a-7b2def7fd882",
   "metadata": {},
   "outputs": [],
   "source": [
    "c=3.14"
   ]
  },
  {
   "cell_type": "code",
   "execution_count": 55,
   "id": "d388e2af-1c5c-462d-bcd9-6506cdd858ff",
   "metadata": {},
   "outputs": [
    {
     "data": {
      "text/plain": [
       "'.14'"
      ]
     },
     "execution_count": 55,
     "metadata": {},
     "output_type": "execute_result"
    }
   ],
   "source": [
    "type(c)\n",
    "c1=str(c)\n",
    "c1[1:]"
   ]
  },
  {
   "cell_type": "code",
   "execution_count": null,
   "id": "4b18b136-cd18-4e81-98ae-f1189afd7840",
   "metadata": {},
   "outputs": [],
   "source": [
    "len() mide la longitud"
   ]
  },
  {
   "cell_type": "code",
   "execution_count": 67,
   "id": "23d062f8-257f-4e3d-9da2-8e46589ea667",
   "metadata": {},
   "outputs": [],
   "source": [
    "palabra=\"python\""
   ]
  },
  {
   "cell_type": "code",
   "execution_count": null,
   "id": "e74bb821-0d93-495c-bfb9-1ded4ba14e61",
   "metadata": {},
   "outputs": [],
   "source": [
    "si un indice nos se indica se toma por deffecto el principio y en el final"
   ]
  },
  {
   "cell_type": "code",
   "execution_count": 68,
   "id": "b4e34071-3441-485e-9a75-1c00e6e39d41",
   "metadata": {},
   "outputs": [
    {
     "data": {
      "text/plain": [
       "'python'"
      ]
     },
     "execution_count": 68,
     "metadata": {},
     "output_type": "execute_result"
    }
   ],
   "source": [
    "palabra[:]"
   ]
  },
  {
   "cell_type": "code",
   "execution_count": 69,
   "id": "b825ed1b-6997-4840-bbf4-5eb716dbd10f",
   "metadata": {},
   "outputs": [
    {
     "data": {
      "text/plain": [
       "'python'"
      ]
     },
     "execution_count": 69,
     "metadata": {},
     "output_type": "execute_result"
    }
   ],
   "source": [
    "palabra[:2]+palabra[2:]"
   ]
  },
  {
   "cell_type": "code",
   "execution_count": 60,
   "id": "ec0720ae-2e0a-435e-9b9c-6b8c27f8b0f5",
   "metadata": {},
   "outputs": [
    {
     "data": {
      "text/plain": [
       "6"
      ]
     },
     "execution_count": 60,
     "metadata": {},
     "output_type": "execute_result"
    }
   ],
   "source": [
    "len(palabra)"
   ]
  },
  {
   "cell_type": "code",
   "execution_count": null,
   "id": "eab5f5b5-dcb9-4cbc-9ea9-cb9ad5458392",
   "metadata": {},
   "outputs": [],
   "source": [
    "inmutabilidad, una propiedad de las cadenas que no se puede modificar, si queremos reajustar un carcter no nos deja"
   ]
  },
  {
   "cell_type": "code",
   "execution_count": 61,
   "id": "2f547e44-2d1f-4cfc-ae8b-8ced6bae28dc",
   "metadata": {},
   "outputs": [
    {
     "ename": "TypeError",
     "evalue": "'str' object does not support item assignment",
     "output_type": "error",
     "traceback": [
      "\u001b[1;31m---------------------------------------------------------------------------\u001b[0m",
      "\u001b[1;31mTypeError\u001b[0m                                 Traceback (most recent call last)",
      "Cell \u001b[1;32mIn[61], line 1\u001b[0m\n\u001b[1;32m----> 1\u001b[0m \u001b[43mpalabra\u001b[49m\u001b[43m[\u001b[49m\u001b[38;5;241;43m0\u001b[39;49m\u001b[43m]\u001b[49m\u001b[38;5;241m=\u001b[39m\u001b[38;5;124m\"\u001b[39m\u001b[38;5;124mn\u001b[39m\u001b[38;5;124m\"\u001b[39m\n",
      "\u001b[1;31mTypeError\u001b[0m: 'str' object does not support item assignment"
     ]
    }
   ],
   "source": [
    "palabra[0]=\"n\""
   ]
  },
  {
   "cell_type": "code",
   "execution_count": null,
   "id": "938f8c12-d46b-4f43-8589-aa87492eb994",
   "metadata": {},
   "outputs": [],
   "source": [
    "sin embargo, utilizamos slicing y concatenacion podemos generar nuevas cadenas facilmente "
   ]
  },
  {
   "cell_type": "code",
   "execution_count": 62,
   "id": "3463e599-eccf-48c4-86b5-df68f16e97fe",
   "metadata": {},
   "outputs": [
    {
     "data": {
      "text/plain": [
       "'Nython'"
      ]
     },
     "execution_count": 62,
     "metadata": {},
     "output_type": "execute_result"
    }
   ],
   "source": [
    "palabra = \"N\" + palabra[1:]\n",
    "palabra"
   ]
  },
  {
   "cell_type": "code",
   "execution_count": null,
   "id": "aea0ed05-921e-45db-95f6-1b0852f9f6c3",
   "metadata": {},
   "outputs": [],
   "source": [
    "si un indice se encuentra despues del rango tendra error"
   ]
  },
  {
   "cell_type": "code",
   "execution_count": 63,
   "id": "b1be1dda-bb7d-4974-9ae3-f1ba674b438c",
   "metadata": {},
   "outputs": [
    {
     "ename": "IndexError",
     "evalue": "string index out of range",
     "output_type": "error",
     "traceback": [
      "\u001b[1;31m---------------------------------------------------------------------------\u001b[0m",
      "\u001b[1;31mIndexError\u001b[0m                                Traceback (most recent call last)",
      "Cell \u001b[1;32mIn[63], line 1\u001b[0m\n\u001b[1;32m----> 1\u001b[0m \u001b[43mpalabra\u001b[49m\u001b[43m[\u001b[49m\u001b[38;5;241;43m99\u001b[39;49m\u001b[43m]\u001b[49m\n",
      "\u001b[1;31mIndexError\u001b[0m: string index out of range"
     ]
    }
   ],
   "source": [
    "palabra[99]"
   ]
  },
  {
   "cell_type": "code",
   "execution_count": 64,
   "id": "8071851c-d601-4230-be67-ee7efc97291d",
   "metadata": {},
   "outputs": [
    {
     "data": {
      "text/plain": [
       "'Nython'"
      ]
     },
     "execution_count": 64,
     "metadata": {},
     "output_type": "execute_result"
    }
   ],
   "source": [
    "palabra[:99]"
   ]
  },
  {
   "cell_type": "code",
   "execution_count": 65,
   "id": "84950d7e-72b1-4f5c-b81f-da7a6f5963a4",
   "metadata": {},
   "outputs": [
    {
     "data": {
      "text/plain": [
       "''"
      ]
     },
     "execution_count": 65,
     "metadata": {},
     "output_type": "execute_result"
    }
   ],
   "source": [
    "palabra[99:]"
   ]
  },
  {
   "cell_type": "code",
   "execution_count": null,
   "id": "a3d36c80-b9e6-4142-9c0e-60683244bf97",
   "metadata": {},
   "outputs": [],
   "source": [
    "da como resultatdo una nueva lista que incluye todos los items"
   ]
  },
  {
   "cell_type": "code",
   "execution_count": 56,
   "id": "fffb662d-7a58-4d66-bb9d-0522d8dc47b8",
   "metadata": {},
   "outputs": [
    {
     "data": {
      "text/plain": [
       "[1, 2, 3, 4, 5, 6, 7, 8]"
      ]
     },
     "execution_count": 56,
     "metadata": {},
     "output_type": "execute_result"
    }
   ],
   "source": [
    "numeros + [5,6,7,8]"
   ]
  },
  {
   "cell_type": "code",
   "execution_count": null,
   "id": "3cbc0659-efb1-4547-b550-95104ef6d4b7",
   "metadata": {},
   "outputs": [],
   "source": [
    "son modificable, a diferencia de las cadenas, en las listas si podemos modificar los items utilizando indices"
   ]
  },
  {
   "cell_type": "code",
   "execution_count": 19,
   "id": "c82a2ad3-0326-4e39-8120-dc7e9ab90917",
   "metadata": {},
   "outputs": [],
   "source": [
    "pares = [0,2,4,5,8,10]"
   ]
  },
  {
   "cell_type": "code",
   "execution_count": 20,
   "id": "de4bfc6f-fab4-49a4-bd7a-05a19293d065",
   "metadata": {},
   "outputs": [],
   "source": [
    "pares[3] = 6"
   ]
  },
  {
   "cell_type": "code",
   "execution_count": 21,
   "id": "cc802f8a-e803-4268-8fbb-f73eb3ae379e",
   "metadata": {},
   "outputs": [
    {
     "data": {
      "text/plain": [
       "[0, 2, 4, 6, 8, 10]"
      ]
     },
     "execution_count": 21,
     "metadata": {},
     "output_type": "execute_result"
    }
   ],
   "source": [
    "pares"
   ]
  },
  {
   "cell_type": "code",
   "execution_count": null,
   "id": "7c6a335c-70a4-4362-b619-a0cb4ecfda0a",
   "metadata": {},
   "outputs": [],
   "source": [
    "integran funcionalidades internas, como el metodo .append() para a;adir un item al final de la lista"
   ]
  },
  {
   "cell_type": "code",
   "execution_count": 22,
   "id": "b979874a-72a3-4ad2-ab75-3d7bd0afd3b1",
   "metadata": {},
   "outputs": [],
   "source": [
    "pares.append(12)"
   ]
  },
  {
   "cell_type": "code",
   "execution_count": 23,
   "id": "8b4359e0-4df4-4829-8207-be3fd800ed9a",
   "metadata": {},
   "outputs": [
    {
     "data": {
      "text/plain": [
       "[0, 2, 4, 6, 8, 10, 12]"
      ]
     },
     "execution_count": 23,
     "metadata": {},
     "output_type": "execute_result"
    }
   ],
   "source": [
    "pares"
   ]
  },
  {
   "cell_type": "code",
   "execution_count": 24,
   "id": "da59cd63-d415-40c6-afc3-ca3a9b27908e",
   "metadata": {},
   "outputs": [],
   "source": [
    "pares.append(7*2)"
   ]
  },
  {
   "cell_type": "code",
   "execution_count": 25,
   "id": "2acc07e2-8916-42b8-82ca-b2658a9588c1",
   "metadata": {},
   "outputs": [
    {
     "data": {
      "text/plain": [
       "[0, 2, 4, 6, 8, 10, 12, 14]"
      ]
     },
     "execution_count": 25,
     "metadata": {},
     "output_type": "execute_result"
    }
   ],
   "source": [
    "pares"
   ]
  },
  {
   "cell_type": "code",
   "execution_count": null,
   "id": "d2d201c0-e4b7-4866-aa33-dbfd6cef19a7",
   "metadata": {},
   "outputs": [],
   "source": [
    "y una peculiaridad es que tambien acepta asigancion con slicing para modificar varios items en conjunto"
   ]
  },
  {
   "cell_type": "code",
   "execution_count": 30,
   "id": "65c6932b-6d4d-4728-9060-c81a64fb6283",
   "metadata": {},
   "outputs": [],
   "source": [
    "letras=['a', 'b', 'c', 'd', 'e', 'f']"
   ]
  },
  {
   "cell_type": "code",
   "execution_count": 31,
   "id": "77c4d5c2-fca5-4699-9f46-449a4ea720d4",
   "metadata": {},
   "outputs": [
    {
     "data": {
      "text/plain": [
       "['a', 'b', 'c']"
      ]
     },
     "execution_count": 31,
     "metadata": {},
     "output_type": "execute_result"
    }
   ],
   "source": [
    "letras[:3]"
   ]
  },
  {
   "cell_type": "code",
   "execution_count": 32,
   "id": "1d8ce859-a3c3-429a-9336-f41cbedea7a4",
   "metadata": {},
   "outputs": [],
   "source": [
    "letras[:3]=['A','B','C']"
   ]
  },
  {
   "cell_type": "code",
   "execution_count": 33,
   "id": "0286e0a1-dac6-4ff7-a24c-6ef39e5902f2",
   "metadata": {},
   "outputs": [
    {
     "data": {
      "text/plain": [
       "['A', 'B', 'C', 'd', 'e', 'f']"
      ]
     },
     "execution_count": 33,
     "metadata": {},
     "output_type": "execute_result"
    }
   ],
   "source": [
    "letras"
   ]
  },
  {
   "cell_type": "code",
   "execution_count": null,
   "id": "82d67019-ea20-4361-9beb-ef7a7dd215b0",
   "metadata": {},
   "outputs": [],
   "source": [
    "asignar una lista vacia equivale a borrar los items de la lista o sublista"
   ]
  },
  {
   "cell_type": "code",
   "execution_count": 34,
   "id": "230b35aa-53d1-4fd3-9731-de5dd9ede4cb",
   "metadata": {},
   "outputs": [],
   "source": [
    "letras[:3]=[]"
   ]
  },
  {
   "cell_type": "code",
   "execution_count": 35,
   "id": "b42375f7-3f7b-49e4-bc33-06b207b355ec",
   "metadata": {},
   "outputs": [
    {
     "data": {
      "text/plain": [
       "['d', 'e', 'f']"
      ]
     },
     "execution_count": 35,
     "metadata": {},
     "output_type": "execute_result"
    }
   ],
   "source": [
    "letras"
   ]
  },
  {
   "cell_type": "code",
   "execution_count": 36,
   "id": "fd67720a-3661-4ec1-85b2-7b6d5f145db5",
   "metadata": {},
   "outputs": [],
   "source": [
    "letras=[]"
   ]
  },
  {
   "cell_type": "code",
   "execution_count": 37,
   "id": "87259fd6-1f6a-4523-af44-8a5ce0be80e8",
   "metadata": {},
   "outputs": [
    {
     "data": {
      "text/plain": [
       "[]"
      ]
     },
     "execution_count": 37,
     "metadata": {},
     "output_type": "execute_result"
    }
   ],
   "source": [
    "letras"
   ]
  },
  {
   "cell_type": "code",
   "execution_count": null,
   "id": "dc3a9cbf-8753-47fa-affc-977e8ad5b0a8",
   "metadata": {},
   "outputs": [],
   "source": [
    "la funcion len() tambien funciona con las listas del mismo modo que en las cadenas"
   ]
  },
  {
   "cell_type": "code",
   "execution_count": 38,
   "id": "0adbfa08-d0b5-4496-ae04-e3dd5993c791",
   "metadata": {},
   "outputs": [
    {
     "data": {
      "text/plain": [
       "0"
      ]
     },
     "execution_count": 38,
     "metadata": {},
     "output_type": "execute_result"
    }
   ],
   "source": [
    "len(letras)"
   ]
  },
  {
   "cell_type": "code",
   "execution_count": 39,
   "id": "e5f1145a-4770-4f07-bdb5-7b65fbd959d0",
   "metadata": {},
   "outputs": [
    {
     "data": {
      "text/plain": [
       "8"
      ]
     },
     "execution_count": 39,
     "metadata": {},
     "output_type": "execute_result"
    }
   ],
   "source": [
    "len(pares)"
   ]
  },
  {
   "cell_type": "code",
   "execution_count": null,
   "id": "39fca5f0-64b2-4a64-85e4-169248f979fd",
   "metadata": {},
   "outputs": [],
   "source": [
    "lista dentro de una lista, podemos manipular facilmente este tipo de estructura utilizando multiples indices, como si nos refirieramos a las columnas o las filas de la tabla"
   ]
  },
  {
   "cell_type": "code",
   "execution_count": 40,
   "id": "d9e621f7-3254-411a-b996-9ee76aa851b0",
   "metadata": {},
   "outputs": [],
   "source": [
    "a=[1,2,3]\n",
    "b=[4,5,6]\n",
    "c=[7,8,9]\n",
    "r=[a,b,c]"
   ]
  },
  {
   "cell_type": "code",
   "execution_count": 41,
   "id": "556dedc8-c6d2-4922-8ad1-137d1cf94d7c",
   "metadata": {},
   "outputs": [
    {
     "data": {
      "text/plain": [
       "[[1, 2, 3], [4, 5, 6], [7, 8, 9]]"
      ]
     },
     "execution_count": 41,
     "metadata": {},
     "output_type": "execute_result"
    }
   ],
   "source": [
    "r"
   ]
  },
  {
   "cell_type": "code",
   "execution_count": 42,
   "id": "454d17d2-24af-43e7-86f5-ca8324a3a4f1",
   "metadata": {},
   "outputs": [
    {
     "data": {
      "text/plain": [
       "[1, 2, 3]"
      ]
     },
     "execution_count": 42,
     "metadata": {},
     "output_type": "execute_result"
    }
   ],
   "source": [
    "r[0]"
   ]
  },
  {
   "cell_type": "code",
   "execution_count": 43,
   "id": "c4a69a97-d4f0-484d-b7d1-d655013ea646",
   "metadata": {},
   "outputs": [
    {
     "data": {
      "text/plain": [
       "[7, 8, 9]"
      ]
     },
     "execution_count": 43,
     "metadata": {},
     "output_type": "execute_result"
    }
   ],
   "source": [
    "r[-1]"
   ]
  },
  {
   "cell_type": "code",
   "execution_count": 44,
   "id": "c1ccc226-f8a3-4a7f-8b53-b115c7fbb30e",
   "metadata": {},
   "outputs": [
    {
     "data": {
      "text/plain": [
       "1"
      ]
     },
     "execution_count": 44,
     "metadata": {},
     "output_type": "execute_result"
    }
   ],
   "source": [
    "r[0][0]"
   ]
  },
  {
   "cell_type": "code",
   "execution_count": 45,
   "id": "435e5ac6-8964-425b-bf22-e15d948dc3bd",
   "metadata": {},
   "outputs": [
    {
     "data": {
      "text/plain": [
       "5"
      ]
     },
     "execution_count": 45,
     "metadata": {},
     "output_type": "execute_result"
    }
   ],
   "source": [
    "r[1][1]"
   ]
  },
  {
   "cell_type": "code",
   "execution_count": 46,
   "id": "e84aa0d8-55d3-4a05-9a6a-0e7b1a05f73c",
   "metadata": {},
   "outputs": [
    {
     "data": {
      "text/plain": [
       "8"
      ]
     },
     "execution_count": 46,
     "metadata": {},
     "output_type": "execute_result"
    }
   ],
   "source": [
    "r[2][1]"
   ]
  },
  {
   "cell_type": "code",
   "execution_count": 47,
   "id": "0003f1bc-1f6f-4189-a014-6bc02d89e91d",
   "metadata": {},
   "outputs": [
    {
     "data": {
      "text/plain": [
       "9"
      ]
     },
     "execution_count": 47,
     "metadata": {},
     "output_type": "execute_result"
    }
   ],
   "source": [
    "r[-1][-1]"
   ]
  },
  {
   "cell_type": "code",
   "execution_count": null,
   "id": "b73e8618-fed7-4ee3-9640-2898b35f776c",
   "metadata": {},
   "outputs": [],
   "source": []
  },
  {
   "cell_type": "code",
   "execution_count": null,
   "id": "cd46d9cd-0c06-45d0-9020-49bdb72869b5",
   "metadata": {},
   "outputs": [],
   "source": []
  }
 ],
 "metadata": {
  "kernelspec": {
   "display_name": "Python 3 (ipykernel)",
   "language": "python",
   "name": "python3"
  },
  "language_info": {
   "codemirror_mode": {
    "name": "ipython",
    "version": 3
   },
   "file_extension": ".py",
   "mimetype": "text/x-python",
   "name": "python",
   "nbconvert_exporter": "python",
   "pygments_lexer": "ipython3",
   "version": "3.13.2"
  }
 },
 "nbformat": 4,
 "nbformat_minor": 5
}
